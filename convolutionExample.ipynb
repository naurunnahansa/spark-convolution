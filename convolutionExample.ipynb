{
 "cells": [
  {
   "cell_type": "code",
   "execution_count": 1,
   "id": "76abc370-5f90-4074-8fb0-0424924a1e34",
   "metadata": {},
   "outputs": [],
   "source": [
    "# import required libraries\n",
    "from pyspark.mllib.linalg import Matrices, SparseMatrix\n",
    "from pyspark.mllib.linalg.distributed import IndexedRow, IndexedRowMatrix\n",
    "from pyspark.sql import SparkSession\n",
    "from pyspark.sql.functions import col\n",
    "from pyspark.sql.types import *\n",
    "from operator import add\n",
    "import numpy as np\n",
    "import math\n",
    "import cv2"
   ]
  },
  {
   "cell_type": "code",
   "execution_count": 2,
   "id": "b646368a-82ba-47e3-8329-c2f24642e804",
   "metadata": {},
   "outputs": [],
   "source": [
    "# initiate the spark session\n",
    "appName = \"PySpark Example - Python Array/List to Spark Data Frame\"\n",
    "master = \"local\"\n",
    "spark = SparkSession.builder \\\n",
    "    .appName(appName) \\\n",
    "    .master(master) \\\n",
    "    .getOrCreate()\n",
    "sc = spark.sparkContext"
   ]
  },
  {
   "cell_type": "code",
   "execution_count": 3,
   "id": "3eea2952-db20-4021-bfd2-0aa929229f92",
   "metadata": {},
   "outputs": [],
   "source": [
    "# i- length j- height\n",
    "def findKurnelsForPixel(imgDim, kurnelDim, pixelNum):    \n",
    "    K_i_min,K_j_min = 0,0\n",
    "    K_i_max = imgDim[\"length\"]-(kurnelDim[\"length\"])\n",
    "    K_j_max = imgDim[\"height\"]-(kurnelDim[\"height\"])\n",
    "\n",
    "    i = (pixelNum%imgDim[\"length\"])\n",
    "    j = (math.floor(pixelNum/imgDim[\"length\"]))\n",
    "    \n",
    "    K_ij_max = [j,i]\n",
    "    K_ij_min = [j-(kurnelDim[\"height\"]-1),i-(kurnelDim[\"length\"]-1)]\n",
    "\n",
    "    output = []\n",
    "    for i in range(K_ij_min[0], K_ij_max[0]+1):\n",
    "        for j in range(K_ij_min[1], K_ij_max[1]+1):\n",
    "            n = (imgDim[\"length\"]*i+j)\n",
    "            if(n<0 or i<0 or j<0 or j>K_j_max or i>K_i_max):continue\n",
    "            output.append(n)\n",
    "    return output"
   ]
  },
  {
   "cell_type": "code",
   "execution_count": 4,
   "id": "bacfffcd-0d8a-4101-9f25-315c9590fc0e",
   "metadata": {},
   "outputs": [],
   "source": [
    "#defining key functions\n",
    "\n",
    "def bundleWithKurnelData(kurnelArray,data,index):\n",
    "    output = []\n",
    "    for kurnel in kurnelArray:\n",
    "        output.append([kurnel,index,data])\n",
    "    return output\n",
    "def multiplyByKurnel(x,kurnelMap):\n",
    "    return [x[0][0],x[0][2]*kurnelMap[x[1]%len(kurnelMap)]]\n",
    "\n",
    "def convolve(imgRdd, kurnel):\n",
    "    imageDim = {\"height\":img.shape[0],  #height,length\n",
    "                \"length\":img.shape[1]}\n",
    "    kurnelDim = {\"height\":len(kurnel), #height,length\n",
    "                 \"length\":len(kurnel[0])}\n",
    "    \n",
    "    kurnelMap = np.array(kurnel).flatten()\n",
    "    \n",
    "    image = (imgRdd\n",
    "             .zipWithIndex()\n",
    "             .map(lambda x: bundleWithKurnelData(findKurnelsForPixel(imageDim,kurnelDim,x[1]),x[0],x[1]))\n",
    "             .flatMap(lambda x:x)\n",
    "             .sortBy(lambda x :(x[0],x[1]))\n",
    "             .zipWithIndex()\n",
    "             .map(lambda x: multiplyByKurnel(x,kurnelMap))\n",
    "             .reduceByKey(lambda a,b: int((a+b)))\n",
    "             .map(lambda x: x[1]))\n",
    "    newImageDims = {\"height\":imageDim[\"height\"]-kurnelDim[\"height\"]+1,\n",
    "                    \"length\":imageDim[\"length\"]-kurnelDim[\"length\"]+1}\n",
    "    \n",
    "    return image,newImageDims\n",
    "\n",
    "def saveImageRddToStorage(imageRdd,imageDims,imageName):\n",
    "    image = imageRdd.collect()\n",
    "    output,temp,index = [],[],0\n",
    "    for px in image:\n",
    "        index += 1\n",
    "        temp.append(px)\n",
    "        if(index%imageDims[\"length\"] == 0):\n",
    "            output.append(temp)\n",
    "            temp = []\n",
    "    newimg = np.array(output)\n",
    "    return cv2.imwrite(imageName, newimg)"
   ]
  },
  {
   "cell_type": "code",
   "execution_count": 5,
   "id": "9024a85b-f96f-46c4-b030-430a4a05f80b",
   "metadata": {},
   "outputs": [
    {
     "data": {
      "text/plain": [
       "True"
      ]
     },
     "execution_count": 5,
     "metadata": {},
     "output_type": "execute_result"
    }
   ],
   "source": [
    "img = cv2.cvtColor(cv2.imread(\"check.png\"), cv2.COLOR_BGR2GRAY)\n",
    "sobalX = [[1,2,1],\n",
    "          [0,0,0],\n",
    "          [-1,-2,-1]]\n",
    "sobalY = [[-1,0,1],\n",
    "          [-2,0,2],\n",
    "          [-1,0,1]]\n",
    "\n",
    "imgRdd01=sc.parallelize(img).flatMap(lambda x:x)\n",
    "\n",
    "image,imageDims = convolve(imgRdd01,sobalX)    \n",
    "saveImageRddToStorage(image,imageDims,\"checkSobalX.png\")\n",
    "\n",
    "image,imageDims = convolve(imgRdd01,sobalY)    \n",
    "saveImageRddToStorage(image,imageDims,\"checkSobalY.png\")"
   ]
  },
  {
   "cell_type": "code",
   "execution_count": 42,
   "id": "976fcd97-46a8-4684-bd4a-ee069cee73ac",
   "metadata": {},
   "outputs": [
    {
     "data": {
      "text/plain": [
       "True"
      ]
     },
     "execution_count": 42,
     "metadata": {},
     "output_type": "execute_result"
    }
   ],
   "source": [
    "loadGrayScale = lambda x:cv2.cvtColor(cv2.imread(x), cv2.COLOR_BGR2GRAY)\n",
    "img01 = loadGrayScale(\"checkSobalX.png\")\n",
    "img02 = loadGrayScale(\"checkSobalY.png\")\n",
    "\n",
    "img01rdd=sc.parallelize(img01).flatMap(lambda x:x).zipWithIndex().map(lambda x: [x[1],x[0]])\n",
    "img02rdd=sc.parallelize(img02).flatMap(lambda x:x).zipWithIndex().map(lambda x: [x[1],x[0]])\n",
    "img01rdd = img01rdd.union(img02rdd).sortByKey()\n",
    "\n",
    "aTuple = (0,0)\n",
    "img01rdd = img01rdd.aggregateByKey(aTuple, lambda a,b: (a[0] + b,    a[1] + 1),\n",
    "                                       lambda a,b: (a[0] + b[0], a[1] + b[1]))\n",
    "img01rdd = img01rdd.mapValues(lambda v: int(v[0]/v[1])).sortByKey().map(lambda x: x[1])\n",
    "\n",
    "saveImageRddToStorage(img01rdd,imageDims,\"checkFinal.png\")"
   ]
  },
  {
   "cell_type": "code",
   "execution_count": null,
   "id": "ad3c922e-2c9b-47fc-8cd3-39b1623dfb65",
   "metadata": {},
   "outputs": [],
   "source": [
    "def AddAndAverageImageRdds():\n",
    "    "
   ]
  }
 ],
 "metadata": {
  "kernelspec": {
   "display_name": "Python 3 (ipykernel)",
   "language": "python",
   "name": "python3"
  },
  "language_info": {
   "codemirror_mode": {
    "name": "ipython",
    "version": 3
   },
   "file_extension": ".py",
   "mimetype": "text/x-python",
   "name": "python",
   "nbconvert_exporter": "python",
   "pygments_lexer": "ipython3",
   "version": "3.10.6"
  }
 },
 "nbformat": 4,
 "nbformat_minor": 5
}
